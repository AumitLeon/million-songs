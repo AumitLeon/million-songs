{
 "cells": [
  {
   "cell_type": "markdown",
   "metadata": {
    "collapsed": true
   },
   "source": [
    "## Exploring the simplified year predictions dataset\n",
    "\n",
    "Thus far, we've observed that our neural net is only classifying a single class. We hypothesize that this might have to do with the dataset being heavily biased towards a particular handful of classes. This might give us some insight into how we can properly modify our network."
   ]
  },
  {
   "cell_type": "code",
   "execution_count": 1,
   "metadata": {
    "collapsed": true
   },
   "outputs": [],
   "source": [
    "%matplotlib inline\n",
    "import matplotlib\n",
    "from matplotlib import pyplot as plt"
   ]
  },
  {
   "cell_type": "code",
   "execution_count": 2,
   "metadata": {
    "collapsed": true
   },
   "outputs": [],
   "source": [
    "from sklearn.neural_network import MLPClassifier\n",
    "from sklearn.metrics import accuracy_score\n",
    "from sklearn.metrics import precision_recall_fscore_support\n",
    "import numpy as np"
   ]
  },
  {
   "cell_type": "markdown",
   "metadata": {
    "collapsed": true
   },
   "source": [
    "Getting the labels and examples from the csv file"
   ]
  },
  {
   "cell_type": "code",
   "execution_count": 3,
   "metadata": {
    "collapsed": true
   },
   "outputs": [],
   "source": [
    "labels = []\n",
    "examples = []\n",
    "\n",
    "# Replace filename with the path to the CSV where you have the year predictions data saved.\n",
    "filename = \"/mnt/c/Users/Aumit/Desktop/YearPredictionMSD.txt/yp.csv\"\n",
    "with open(filename, 'r') as f:\n",
    "    for line in f:\n",
    "        content = line.split(\",\")\n",
    "        \n",
    "        labels.append(int(content[0]))\n",
    "\n",
    "        content.pop(0)\n",
    "\n",
    "        content = [float(elem) for elem in content]\n",
    "\n",
    "        # If we want a list of numpy arrays, not necessary\n",
    "        #npa = np.asarray(content, dtype=np.float64)\n",
    "\n",
    "        examples.append(content)"
   ]
  },
  {
   "cell_type": "code",
   "execution_count": 31,
   "metadata": {
    "collapsed": true
   },
   "outputs": [],
   "source": [
    "total_array = np.array(examples)"
   ]
  },
  {
   "cell_type": "code",
   "execution_count": 32,
   "metadata": {},
   "outputs": [
    {
     "data": {
      "text/plain": [
       "array([[  4.99435700e+01,   2.14711400e+01,   7.30775000e+01, ...,\n",
       "         -1.82223000e+00,  -2.74634800e+01,   2.26327000e+00],\n",
       "       [  4.87321500e+01,   1.84293000e+01,   7.03267900e+01, ...,\n",
       "          1.20494100e+01,   5.84345300e+01,   2.69206100e+01],\n",
       "       [  5.09571400e+01,   3.18560200e+01,   5.58185100e+01, ...,\n",
       "         -5.85900000e-02,   3.96706800e+01,  -6.63450000e-01],\n",
       "       ..., \n",
       "       [  4.51285200e+01,   1.26575800e+01,  -3.87201800e+01, ...,\n",
       "         -6.07171000e+00,   5.39631900e+01,  -8.09364000e+00],\n",
       "       [  4.41661400e+01,   3.23836800e+01,  -3.34971000e+00, ...,\n",
       "          2.03224000e+01,   1.48310700e+01,   3.97490900e+01],\n",
       "       [  5.18572600e+01,   5.91165500e+01,   2.63943600e+01, ...,\n",
       "         -5.51512000e+00,   3.23560200e+01,   1.21735200e+01]])"
      ]
     },
     "execution_count": 32,
     "metadata": {},
     "output_type": "execute_result"
    }
   ],
   "source": [
    "total_array"
   ]
  },
  {
   "cell_type": "code",
   "execution_count": 33,
   "metadata": {
    "collapsed": true
   },
   "outputs": [],
   "source": [
    "total_labels = np.array(labels)"
   ]
  },
  {
   "cell_type": "code",
   "execution_count": 34,
   "metadata": {},
   "outputs": [
    {
     "data": {
      "text/plain": [
       "array([2001, 2001, 2001, ..., 2006, 2006, 2005])"
      ]
     },
     "execution_count": 34,
     "metadata": {},
     "output_type": "execute_result"
    }
   ],
   "source": [
    "total_labels"
   ]
  },
  {
   "cell_type": "code",
   "execution_count": 35,
   "metadata": {
    "collapsed": true
   },
   "outputs": [],
   "source": [
    "training_examples = total_array[:10000]"
   ]
  },
  {
   "cell_type": "code",
   "execution_count": 36,
   "metadata": {
    "collapsed": true
   },
   "outputs": [],
   "source": [
    "training_labels = total_labels[:10000]"
   ]
  },
  {
   "cell_type": "markdown",
   "metadata": {
    "collapsed": true
   },
   "source": [
    "Observing the distribution of classes in the the training labels. Heavily biased towards late 90's/early 2000s, but it isn't entirely skewed. Neural net should still perform well. Maybe we should use random samples as opposed to the first 10000?"
   ]
  },
  {
   "cell_type": "code",
   "execution_count": 78,
   "metadata": {
    "scrolled": true
   },
   "outputs": [
    {
     "data": {
      "text/plain": [
       "(array([  5.00000000e+00,   0.00000000e+00,   0.00000000e+00,\n",
       "          0.00000000e+00,   0.00000000e+00,   0.00000000e+00,\n",
       "          0.00000000e+00,   1.00000000e+00,   0.00000000e+00,\n",
       "          3.00000000e+00,   0.00000000e+00,   8.00000000e+00,\n",
       "          0.00000000e+00,   1.50000000e+01,   0.00000000e+00,\n",
       "          7.00000000e+00,   0.00000000e+00,   3.00000000e+00,\n",
       "          0.00000000e+00,   6.00000000e+00,   0.00000000e+00,\n",
       "          1.00000000e+00,   0.00000000e+00,   4.00000000e+00,\n",
       "          0.00000000e+00,   3.00000000e+00,   0.00000000e+00,\n",
       "          5.00000000e+00,   0.00000000e+00,   9.00000000e+00,\n",
       "          0.00000000e+00,   3.00000000e+00,   0.00000000e+00,\n",
       "          3.00000000e+00,   2.00000000e+00,   0.00000000e+00,\n",
       "          6.00000000e+00,   0.00000000e+00,   2.00000000e+00,\n",
       "          0.00000000e+00,   1.00000000e+00,   0.00000000e+00,\n",
       "          2.00000000e+00,   0.00000000e+00,   1.00000000e+01,\n",
       "          0.00000000e+00,   5.00000000e+00,   0.00000000e+00,\n",
       "          2.00000000e+00,   0.00000000e+00,   4.00000000e+00,\n",
       "          0.00000000e+00,   2.20000000e+01,   0.00000000e+00,\n",
       "          1.20000000e+01,   0.00000000e+00,   1.30000000e+01,\n",
       "          0.00000000e+00,   1.70000000e+01,   0.00000000e+00,\n",
       "          9.00000000e+00,   0.00000000e+00,   3.20000000e+01,\n",
       "          0.00000000e+00,   4.20000000e+01,   0.00000000e+00,\n",
       "          1.43000000e+02,   0.00000000e+00,   1.00000000e+02,\n",
       "          7.20000000e+01,   0.00000000e+00,   1.10000000e+02,\n",
       "          0.00000000e+00,   1.13000000e+02,   0.00000000e+00,\n",
       "          1.13000000e+02,   0.00000000e+00,   1.35000000e+02,\n",
       "          0.00000000e+00,   2.14000000e+02,   0.00000000e+00,\n",
       "          2.68000000e+02,   0.00000000e+00,   2.29000000e+02,\n",
       "          0.00000000e+00,   2.85000000e+02,   0.00000000e+00,\n",
       "          3.03000000e+02,   0.00000000e+00,   3.81000000e+02,\n",
       "          0.00000000e+00,   3.85000000e+02,   0.00000000e+00,\n",
       "          4.25000000e+02,   0.00000000e+00,   3.59000000e+02,\n",
       "          0.00000000e+00,   4.08000000e+02,   0.00000000e+00,\n",
       "          5.44000000e+02,   0.00000000e+00,   4.76000000e+02,\n",
       "          5.76000000e+02,   0.00000000e+00,   4.57000000e+02,\n",
       "          0.00000000e+00,   5.62000000e+02,   0.00000000e+00,\n",
       "          4.82000000e+02,   0.00000000e+00,   6.14000000e+02,\n",
       "          0.00000000e+00,   5.89000000e+02,   0.00000000e+00,\n",
       "          6.24000000e+02,   0.00000000e+00,   7.66000000e+02,\n",
       "          0.00000000e+00,   7.31000000e+02,   0.00000000e+00,\n",
       "          5.94000000e+02,   0.00000000e+00,   6.44000000e+02,\n",
       "          0.00000000e+00,   8.07000000e+02,   0.00000000e+00,\n",
       "          1.11200000e+03,   0.00000000e+00,   1.25000000e+03,\n",
       "          0.00000000e+00,   1.19900000e+03,   0.00000000e+00,\n",
       "          1.64400000e+03,   0.00000000e+00,   1.60400000e+03,\n",
       "          0.00000000e+00,   2.11900000e+03,   2.12900000e+03,\n",
       "          0.00000000e+00,   2.50000000e+03,   0.00000000e+00,\n",
       "          2.63800000e+03,   0.00000000e+00,   2.79300000e+03,\n",
       "          0.00000000e+00,   3.05600000e+03,   0.00000000e+00,\n",
       "          3.23100000e+03,   0.00000000e+00,   3.66200000e+03,\n",
       "          0.00000000e+00,   3.82100000e+03,   0.00000000e+00,\n",
       "          4.36200000e+03,   0.00000000e+00,   4.92500000e+03,\n",
       "          0.00000000e+00,   5.11800000e+03,   0.00000000e+00,\n",
       "          5.96800000e+03,   0.00000000e+00,   6.86100000e+03,\n",
       "          0.00000000e+00,   7.12400000e+03,   0.00000000e+00,\n",
       "          7.37300000e+03,   0.00000000e+00,   6.57500000e+03,\n",
       "          0.00000000e+00,   4.75100000e+03,   1.41900000e+03]),\n",
       " array([ 1922.        ,  1922.51461988,  1923.02923977,  1923.54385965,\n",
       "         1924.05847953,  1924.57309942,  1925.0877193 ,  1925.60233918,\n",
       "         1926.11695906,  1926.63157895,  1927.14619883,  1927.66081871,\n",
       "         1928.1754386 ,  1928.69005848,  1929.20467836,  1929.71929825,\n",
       "         1930.23391813,  1930.74853801,  1931.26315789,  1931.77777778,\n",
       "         1932.29239766,  1932.80701754,  1933.32163743,  1933.83625731,\n",
       "         1934.35087719,  1934.86549708,  1935.38011696,  1935.89473684,\n",
       "         1936.40935673,  1936.92397661,  1937.43859649,  1937.95321637,\n",
       "         1938.46783626,  1938.98245614,  1939.49707602,  1940.01169591,\n",
       "         1940.52631579,  1941.04093567,  1941.55555556,  1942.07017544,\n",
       "         1942.58479532,  1943.0994152 ,  1943.61403509,  1944.12865497,\n",
       "         1944.64327485,  1945.15789474,  1945.67251462,  1946.1871345 ,\n",
       "         1946.70175439,  1947.21637427,  1947.73099415,  1948.24561404,\n",
       "         1948.76023392,  1949.2748538 ,  1949.78947368,  1950.30409357,\n",
       "         1950.81871345,  1951.33333333,  1951.84795322,  1952.3625731 ,\n",
       "         1952.87719298,  1953.39181287,  1953.90643275,  1954.42105263,\n",
       "         1954.93567251,  1955.4502924 ,  1955.96491228,  1956.47953216,\n",
       "         1956.99415205,  1957.50877193,  1958.02339181,  1958.5380117 ,\n",
       "         1959.05263158,  1959.56725146,  1960.08187135,  1960.59649123,\n",
       "         1961.11111111,  1961.62573099,  1962.14035088,  1962.65497076,\n",
       "         1963.16959064,  1963.68421053,  1964.19883041,  1964.71345029,\n",
       "         1965.22807018,  1965.74269006,  1966.25730994,  1966.77192982,\n",
       "         1967.28654971,  1967.80116959,  1968.31578947,  1968.83040936,\n",
       "         1969.34502924,  1969.85964912,  1970.37426901,  1970.88888889,\n",
       "         1971.40350877,  1971.91812865,  1972.43274854,  1972.94736842,\n",
       "         1973.4619883 ,  1973.97660819,  1974.49122807,  1975.00584795,\n",
       "         1975.52046784,  1976.03508772,  1976.5497076 ,  1977.06432749,\n",
       "         1977.57894737,  1978.09356725,  1978.60818713,  1979.12280702,\n",
       "         1979.6374269 ,  1980.15204678,  1980.66666667,  1981.18128655,\n",
       "         1981.69590643,  1982.21052632,  1982.7251462 ,  1983.23976608,\n",
       "         1983.75438596,  1984.26900585,  1984.78362573,  1985.29824561,\n",
       "         1985.8128655 ,  1986.32748538,  1986.84210526,  1987.35672515,\n",
       "         1987.87134503,  1988.38596491,  1988.9005848 ,  1989.41520468,\n",
       "         1989.92982456,  1990.44444444,  1990.95906433,  1991.47368421,\n",
       "         1991.98830409,  1992.50292398,  1993.01754386,  1993.53216374,\n",
       "         1994.04678363,  1994.56140351,  1995.07602339,  1995.59064327,\n",
       "         1996.10526316,  1996.61988304,  1997.13450292,  1997.64912281,\n",
       "         1998.16374269,  1998.67836257,  1999.19298246,  1999.70760234,\n",
       "         2000.22222222,  2000.73684211,  2001.25146199,  2001.76608187,\n",
       "         2002.28070175,  2002.79532164,  2003.30994152,  2003.8245614 ,\n",
       "         2004.33918129,  2004.85380117,  2005.36842105,  2005.88304094,\n",
       "         2006.39766082,  2006.9122807 ,  2007.42690058,  2007.94152047,\n",
       "         2008.45614035,  2008.97076023,  2009.48538012,  2010.        ]),\n",
       " <a list of 171 Patch objects>)"
      ]
     },
     "execution_count": 78,
     "metadata": {},
     "output_type": "execute_result"
    },
    {
     "data": {
      "image/png": "[encoded data removed]",
      "text/plain": [
       "<matplotlib.figure.Figure at 0x7f92b09ee610>"
      ]
     },
     "metadata": {},
     "output_type": "display_data"
    }
   ],
   "source": [
    "plt.hist(training_labels, bins='auto')"
   ]
  },
  {
   "cell_type": "code",
   "execution_count": 79,
   "metadata": {
    "collapsed": true
   },
   "outputs": [],
   "source": [
    "plt.show()"
   ]
  },
  {
   "cell_type": "code",
   "execution_count": 40,
   "metadata": {},
   "outputs": [
    {
     "data": {
      "text/plain": [
       "(10000,)"
      ]
     },
     "execution_count": 40,
     "metadata": {},
     "output_type": "execute_result"
    }
   ],
   "source": [
    "training_labels.shape"
   ]
  },
  {
   "cell_type": "markdown",
   "metadata": {
    "collapsed": true
   },
   "source": [
    "The histogram tells us that the first 10,000 training examples heavily favor music from the early 2000s."
   ]
  },
  {
   "cell_type": "code",
   "execution_count": 53,
   "metadata": {
    "scrolled": false
   },
   "outputs": [
    {
     "data": {
      "text/plain": [
       "(array([   3.,    0.,    0.,    1.,    0.,    0.,    1.,    0.,    0.,\n",
       "           0.,    0.,    0.,    0.,    5.,    0.,    1.,    1.,    0.,\n",
       "           6.,    0.,    0.,    0.,    0.,    0.,    0.,    0.,    0.,\n",
       "           0.,    0.,    0.,    0.,    6.,    0.,    0.,    0.,    8.,\n",
       "           0.,    3.,   21.,    0.,    1.,    7.,   27.,   26.,    0.,\n",
       "          46.,   21.,   18.,   27.,    0.,   56.,   30.,   76.,   44.,\n",
       "           0.,   48.,   35.,   54.,   38.,    0.,   18.,   55.,   46.,\n",
       "          59.,    0.,   48.,   62.,   15.,   44.,    0.,   40.,   86.,\n",
       "         122.,  140.,    0.,  115.,  146.,  159.,  263.,    0.,  230.,\n",
       "         318.,  228.,  313.,    0.,  348.,  385.,  369.,  456.,    0.,\n",
       "         507.,  535.,  795.,  711.,    0.,  717.,  774.,  738.,  450.,   98.]),\n",
       " array([ 1930. ,  1930.8,  1931.6,  1932.4,  1933.2,  1934. ,  1934.8,\n",
       "         1935.6,  1936.4,  1937.2,  1938. ,  1938.8,  1939.6,  1940.4,\n",
       "         1941.2,  1942. ,  1942.8,  1943.6,  1944.4,  1945.2,  1946. ,\n",
       "         1946.8,  1947.6,  1948.4,  1949.2,  1950. ,  1950.8,  1951.6,\n",
       "         1952.4,  1953.2,  1954. ,  1954.8,  1955.6,  1956.4,  1957.2,\n",
       "         1958. ,  1958.8,  1959.6,  1960.4,  1961.2,  1962. ,  1962.8,\n",
       "         1963.6,  1964.4,  1965.2,  1966. ,  1966.8,  1967.6,  1968.4,\n",
       "         1969.2,  1970. ,  1970.8,  1971.6,  1972.4,  1973.2,  1974. ,\n",
       "         1974.8,  1975.6,  1976.4,  1977.2,  1978. ,  1978.8,  1979.6,\n",
       "         1980.4,  1981.2,  1982. ,  1982.8,  1983.6,  1984.4,  1985.2,\n",
       "         1986. ,  1986.8,  1987.6,  1988.4,  1989.2,  1990. ,  1990.8,\n",
       "         1991.6,  1992.4,  1993.2,  1994. ,  1994.8,  1995.6,  1996.4,\n",
       "         1997.2,  1998. ,  1998.8,  1999.6,  2000.4,  2001.2,  2002. ,\n",
       "         2002.8,  2003.6,  2004.4,  2005.2,  2006. ,  2006.8,  2007.6,\n",
       "         2008.4,  2009.2,  2010. ]),\n",
       " <a list of 100 Patch objects>)"
      ]
     },
     "execution_count": 53,
     "metadata": {},
     "output_type": "execute_result"
    },
    {
     "data": {
      "image/png": "[encoded data removed]",
      "text/plain": [
       "<matplotlib.figure.Figure at 0x7f92b2bec990>"
      ]
     },
     "metadata": {},
     "output_type": "display_data"
    }
   ],
   "source": [
    "plt.hist(training_labels, bins=100)"
   ]
  },
  {
   "cell_type": "markdown",
   "metadata": {},
   "source": [
    "The overall training set is also heavily biased towards music from the early the late 90s and early 2000s."
   ]
  },
  {
   "cell_type": "code",
   "execution_count": 54,
   "metadata": {},
   "outputs": [
    {
     "data": {
      "text/plain": [
       "(array([  6.00000000e+00,   0.00000000e+00,   5.00000000e+00,\n",
       "          7.00000000e+00,   1.90000000e+01,   4.20000000e+01,\n",
       "          5.20000000e+01,   9.30000000e+01,   4.00000000e+01,\n",
       "          0.00000000e+00,   3.50000000e+01,   1.10000000e+01,\n",
       "          6.00000000e+00,   2.90000000e+01,   2.40000000e+01,\n",
       "          2.50000000e+01,   2.80000000e+01,   1.90000000e+01,\n",
       "          0.00000000e+00,   3.50000000e+01,   5.20000000e+01,\n",
       "          3.20000000e+01,   2.40000000e+01,   1.40000000e+01,\n",
       "          1.50000000e+01,   3.00000000e+01,   2.90000000e+01,\n",
       "          0.00000000e+00,   5.70000000e+01,   4.30000000e+01,\n",
       "          6.00000000e+01,   8.30000000e+01,   7.40000000e+01,\n",
       "          7.70000000e+01,   1.33000000e+02,   1.23000000e+02,\n",
       "          0.00000000e+00,   2.75000000e+02,   5.65000000e+02,\n",
       "          5.97000000e+02,   5.83000000e+02,   5.92000000e+02,\n",
       "          4.24000000e+02,   5.71000000e+02,   6.05000000e+02,\n",
       "          0.00000000e+00,   9.02000000e+02,   9.45000000e+02,\n",
       "          1.12000000e+03,   1.37700000e+03,   1.71800000e+03,\n",
       "          1.86700000e+03,   2.21000000e+03,   2.34900000e+03,\n",
       "          0.00000000e+00,   2.13100000e+03,   2.28800000e+03,\n",
       "          2.59600000e+03,   2.18400000e+03,   2.48200000e+03,\n",
       "          2.17900000e+03,   2.50200000e+03,   2.92600000e+03,\n",
       "          0.00000000e+00,   3.10800000e+03,   3.10100000e+03,\n",
       "          3.16200000e+03,   3.59700000e+03,   3.38600000e+03,\n",
       "          3.36800000e+03,   3.57800000e+03,   4.21900000e+03,\n",
       "          0.00000000e+00,   5.12200000e+03,   5.61100000e+03,\n",
       "          6.67000000e+03,   7.25600000e+03,   8.64700000e+03,\n",
       "          9.54300000e+03,   1.05250000e+04,   1.21210000e+04,\n",
       "          0.00000000e+00,   1.32570000e+04,   1.41300000e+04,\n",
       "          1.51820000e+04,   1.58140000e+04,   1.82380000e+04,\n",
       "          1.92850000e+04,   2.15900000e+04,   2.34510000e+04,\n",
       "          0.00000000e+00,   2.73820000e+04,   2.96070000e+04,\n",
       "          3.49520000e+04,   3.75340000e+04,   3.94040000e+04,\n",
       "          3.47600000e+04,   3.10380000e+04,   9.39600000e+03,\n",
       "          1.00000000e+00]),\n",
       " array([ 1922.  ,  1922.89,  1923.78,  1924.67,  1925.56,  1926.45,\n",
       "         1927.34,  1928.23,  1929.12,  1930.01,  1930.9 ,  1931.79,\n",
       "         1932.68,  1933.57,  1934.46,  1935.35,  1936.24,  1937.13,\n",
       "         1938.02,  1938.91,  1939.8 ,  1940.69,  1941.58,  1942.47,\n",
       "         1943.36,  1944.25,  1945.14,  1946.03,  1946.92,  1947.81,\n",
       "         1948.7 ,  1949.59,  1950.48,  1951.37,  1952.26,  1953.15,\n",
       "         1954.04,  1954.93,  1955.82,  1956.71,  1957.6 ,  1958.49,\n",
       "         1959.38,  1960.27,  1961.16,  1962.05,  1962.94,  1963.83,\n",
       "         1964.72,  1965.61,  1966.5 ,  1967.39,  1968.28,  1969.17,\n",
       "         1970.06,  1970.95,  1971.84,  1972.73,  1973.62,  1974.51,\n",
       "         1975.4 ,  1976.29,  1977.18,  1978.07,  1978.96,  1979.85,\n",
       "         1980.74,  1981.63,  1982.52,  1983.41,  1984.3 ,  1985.19,\n",
       "         1986.08,  1986.97,  1987.86,  1988.75,  1989.64,  1990.53,\n",
       "         1991.42,  1992.31,  1993.2 ,  1994.09,  1994.98,  1995.87,\n",
       "         1996.76,  1997.65,  1998.54,  1999.43,  2000.32,  2001.21,\n",
       "         2002.1 ,  2002.99,  2003.88,  2004.77,  2005.66,  2006.55,\n",
       "         2007.44,  2008.33,  2009.22,  2010.11,  2011.  ]),\n",
       " <a list of 100 Patch objects>)"
      ]
     },
     "execution_count": 54,
     "metadata": {},
     "output_type": "execute_result"
    },
    {
     "data": {
      "image/png": "[encoded data removed]",
      "text/plain": [
       "<matplotlib.figure.Figure at 0x7f92b2882b50>"
      ]
     },
     "metadata": {},
     "output_type": "display_data"
    }
   ],
   "source": [
    "plt.hist(total_labels, bins=100)"
   ]
  },
  {
   "cell_type": "markdown",
   "metadata": {},
   "source": [
    "Getting test examples from the bottom 1000 array elements"
   ]
  },
  {
   "cell_type": "code",
   "execution_count": 52,
   "metadata": {
    "collapsed": true
   },
   "outputs": [],
   "source": [
    "test_examples = total_array[-1000:]\n",
    "test_labels = total_labels[-1000:]"
   ]
  },
  {
   "cell_type": "markdown",
   "metadata": {},
   "source": [
    "Train and fit the classifier"
   ]
  },
  {
   "cell_type": "code",
   "execution_count": 55,
   "metadata": {},
   "outputs": [
    {
     "name": "stderr",
     "output_type": "stream",
     "text": [
      "/usr/lib/python2.7/dist-packages/scipy/sparse/compressed.py:130: VisibleDeprecationWarning: `rank` is deprecated; use the `ndim` attribute or function instead. To find the rank of a matrix see `numpy.linalg.matrix_rank`.\n",
      "  if np.rank(self.data) != 1 or np.rank(self.indices) != 1 or np.rank(self.indptr) != 1:\n",
      "/usr/lib/python2.7/dist-packages/scipy/sparse/coo.py:200: VisibleDeprecationWarning: `rank` is deprecated; use the `ndim` attribute or function instead. To find the rank of a matrix see `numpy.linalg.matrix_rank`.\n",
      "  if np.rank(self.data) != 1 or np.rank(self.row) != 1 or np.rank(self.col) != 1:\n"
     ]
    },
    {
     "data": {
      "text/plain": [
       "MLPClassifier(activation='relu', alpha=1e-05, batch_size='auto', beta_1=0.9,\n",
       "       beta_2=0.999, early_stopping=False, epsilon=1e-08,\n",
       "       hidden_layer_sizes=(100, 100, 100, 100), learning_rate='constant',\n",
       "       learning_rate_init=0.001, max_iter=200, momentum=0.9,\n",
       "       nesterovs_momentum=True, power_t=0.5, random_state=1, shuffle=True,\n",
       "       solver='sgd', tol=0.0001, validation_fraction=0.1, verbose=False,\n",
       "       warm_start=False)"
      ]
     },
     "execution_count": 55,
     "metadata": {},
     "output_type": "execute_result"
    }
   ],
   "source": [
    "clf = MLPClassifier(solver='sgd', alpha=1e-5,\n",
    "                     hidden_layer_sizes=(100, 100, 100, 100), random_state=1)\n",
    "\n",
    "clf.fit(training_examples, training_labels)   "
   ]
  },
  {
   "cell_type": "code",
   "execution_count": 58,
   "metadata": {
    "collapsed": true
   },
   "outputs": [],
   "source": [
    "y_pred = clf.predict(test_examples)"
   ]
  },
  {
   "cell_type": "markdown",
   "metadata": {
    "collapsed": true
   },
   "source": [
    "Observing the predictions: 2004 is the only represnted example..."
   ]
  },
  {
   "cell_type": "code",
   "execution_count": 57,
   "metadata": {},
   "outputs": [
    {
     "data": {
      "text/plain": [
       "(array([ 999.,    0.,    0.,    0.,    0.,    0.,    0.,    0.,    0.,\n",
       "           0.,    0.,    0.,    0.,    0.,    0.,    0.,    0.,    0.,\n",
       "           0.,    0.,    0.,    0.,    0.,    0.,    0.,    0.,    0.,\n",
       "           0.,    0.,    0.,    0.,    0.,    0.,    0.,    0.,    0.,\n",
       "           0.,    0.,    0.,    0.,    0.,    0.,    0.,    0.,    0.,\n",
       "           0.,    0.,    0.,    0.,    0.,    0.,    0.,    0.,    0.,\n",
       "           0.,    0.,    0.,    0.,    0.,    0.,    0.,    0.,    0.,\n",
       "           0.,    0.,    0.,    0.,    0.,    0.,    0.,    0.,    0.,\n",
       "           0.,    0.,    0.,    0.,    0.,    0.,    0.,    0.,    0.,\n",
       "           0.,    0.,    0.,    0.,    0.,    0.,    0.,    0.,    0.,\n",
       "           0.,    0.,    0.,    0.,    0.,    0.,    0.,    0.,    0.,    1.]),\n",
       " array([ 2004.  ,  2004.04,  2004.08,  2004.12,  2004.16,  2004.2 ,\n",
       "         2004.24,  2004.28,  2004.32,  2004.36,  2004.4 ,  2004.44,\n",
       "         2004.48,  2004.52,  2004.56,  2004.6 ,  2004.64,  2004.68,\n",
       "         2004.72,  2004.76,  2004.8 ,  2004.84,  2004.88,  2004.92,\n",
       "         2004.96,  2005.  ,  2005.04,  2005.08,  2005.12,  2005.16,\n",
       "         2005.2 ,  2005.24,  2005.28,  2005.32,  2005.36,  2005.4 ,\n",
       "         2005.44,  2005.48,  2005.52,  2005.56,  2005.6 ,  2005.64,\n",
       "         2005.68,  2005.72,  2005.76,  2005.8 ,  2005.84,  2005.88,\n",
       "         2005.92,  2005.96,  2006.  ,  2006.04,  2006.08,  2006.12,\n",
       "         2006.16,  2006.2 ,  2006.24,  2006.28,  2006.32,  2006.36,\n",
       "         2006.4 ,  2006.44,  2006.48,  2006.52,  2006.56,  2006.6 ,\n",
       "         2006.64,  2006.68,  2006.72,  2006.76,  2006.8 ,  2006.84,\n",
       "         2006.88,  2006.92,  2006.96,  2007.  ,  2007.04,  2007.08,\n",
       "         2007.12,  2007.16,  2007.2 ,  2007.24,  2007.28,  2007.32,\n",
       "         2007.36,  2007.4 ,  2007.44,  2007.48,  2007.52,  2007.56,\n",
       "         2007.6 ,  2007.64,  2007.68,  2007.72,  2007.76,  2007.8 ,\n",
       "         2007.84,  2007.88,  2007.92,  2007.96,  2008.  ]),\n",
       " <a list of 100 Patch objects>)"
      ]
     },
     "execution_count": 57,
     "metadata": {},
     "output_type": "execute_result"
    },
    {
     "data": {
      "image/png": "[encoded data removed]",
      "text/plain": [
       "<matplotlib.figure.Figure at 0x7f92b2789550>"
      ]
     },
     "metadata": {},
     "output_type": "display_data"
    }
   ],
   "source": [
    "plt.hist(y_pred, bins=100)"
   ]
  },
  {
   "cell_type": "markdown",
   "metadata": {},
   "source": [
    "Let's compare this to the actual distribution of the test labels. There is still a bias towards what looks like 2004, but overall, there is a distribution here."
   ]
  },
  {
   "cell_type": "code",
   "execution_count": 75,
   "metadata": {},
   "outputs": [
    {
     "data": {
      "text/plain": [
       "(array([   2.,    4.,    0.,    0.,    0.,    0.,    0.,    0.,    3.,\n",
       "           0.,    0.,    0.,   31.,    0.,    0.,    0.,    0.,    0.,\n",
       "           0.,    0.,    0.,    0.,    0.,    0.,    0.,    0.,    0.,\n",
       "           0.,    0.,    0.,    0.,    0.,    2.,    0.,    0.,    3.,\n",
       "           1.,    0.,    0.,    0.,    1.,    3.,    6.,    0.,    0.,\n",
       "           5.,    4.,    0.,    2.,    0.,   11.,    0.,    3.,    1.,\n",
       "           0.,    0.,    0.,    0.,    2.,    0.,    2.,    0.,    6.,\n",
       "           9.,    0.,   30.,    0.,   14.,    0.,    0.,    7.,    7.,\n",
       "          19.,    9.,    0.,   20.,   24.,   33.,    6.,    0.,   14.,\n",
       "          16.,   28.,   35.,    0.,   49.,   25.,   41.,   56.,    0.,\n",
       "           1.,   78.,   75.,   40.,    0.,  116.,   64.,   36.,   41.,   15.]),\n",
       " array([ 1930. ,  1930.8,  1931.6,  1932.4,  1933.2,  1934. ,  1934.8,\n",
       "         1935.6,  1936.4,  1937.2,  1938. ,  1938.8,  1939.6,  1940.4,\n",
       "         1941.2,  1942. ,  1942.8,  1943.6,  1944.4,  1945.2,  1946. ,\n",
       "         1946.8,  1947.6,  1948.4,  1949.2,  1950. ,  1950.8,  1951.6,\n",
       "         1952.4,  1953.2,  1954. ,  1954.8,  1955.6,  1956.4,  1957.2,\n",
       "         1958. ,  1958.8,  1959.6,  1960.4,  1961.2,  1962. ,  1962.8,\n",
       "         1963.6,  1964.4,  1965.2,  1966. ,  1966.8,  1967.6,  1968.4,\n",
       "         1969.2,  1970. ,  1970.8,  1971.6,  1972.4,  1973.2,  1974. ,\n",
       "         1974.8,  1975.6,  1976.4,  1977.2,  1978. ,  1978.8,  1979.6,\n",
       "         1980.4,  1981.2,  1982. ,  1982.8,  1983.6,  1984.4,  1985.2,\n",
       "         1986. ,  1986.8,  1987.6,  1988.4,  1989.2,  1990. ,  1990.8,\n",
       "         1991.6,  1992.4,  1993.2,  1994. ,  1994.8,  1995.6,  1996.4,\n",
       "         1997.2,  1998. ,  1998.8,  1999.6,  2000.4,  2001.2,  2002. ,\n",
       "         2002.8,  2003.6,  2004.4,  2005.2,  2006. ,  2006.8,  2007.6,\n",
       "         2008.4,  2009.2,  2010. ]),\n",
       " <a list of 100 Patch objects>)"
      ]
     },
     "execution_count": 75,
     "metadata": {},
     "output_type": "execute_result"
    },
    {
     "data": {
      "image/png": "[encoded data removed]",
      "text/plain": [
       "<matplotlib.figure.Figure at 0x7f92b116cad0>"
      ]
     },
     "metadata": {},
     "output_type": "display_data"
    }
   ],
   "source": [
    "plt.hist(test_labels, bins=100)"
   ]
  },
  {
   "cell_type": "markdown",
   "metadata": {
    "collapsed": true
   },
   "source": [
    "Observing the training labels, there is more of a distribution than in the predicted labels. What could be causing the network to skew towards a particular class even though it is being trained on a decent distribution? "
   ]
  },
  {
   "cell_type": "code",
   "execution_count": 61,
   "metadata": {},
   "outputs": [
    {
     "data": {
      "text/plain": [
       "(array([   3.,    0.,    0.,    1.,    0.,    1.,    0.,    0.,    0.,\n",
       "           0.,    0.,    0.,    0.,    5.,    1.,    1.,    0.,    6.,\n",
       "           0.,    0.,    0.,    0.,    0.,    0.,    0.,    0.,    0.,\n",
       "           0.,    0.,    6.,    0.,    0.,    0.,    8.,    0.,    3.,\n",
       "          21.,    0.,    1.,    7.,   27.,   26.,   46.,   21.,    0.,\n",
       "          18.,   27.,   56.,   30.,   76.,    0.,   44.,   48.,   35.,\n",
       "          54.,   38.,    0.,   18.,   55.,   46.,   59.,   48.,   62.,\n",
       "           0.,   15.,   44.,   40.,   86.,  122.,    0.,  140.,  115.,\n",
       "         146.,  159.,  263.,    0.,  230.,  318.,  228.,  313.,  348.,\n",
       "         385.,    0.,  369.,  456.,  507.,  535.,  795.,    0.,  711.,\n",
       "         717.,  774.,  738.,  450.,   98.]),\n",
       " array([ 1930.        ,  1930.84210526,  1931.68421053,  1932.52631579,\n",
       "         1933.36842105,  1934.21052632,  1935.05263158,  1935.89473684,\n",
       "         1936.73684211,  1937.57894737,  1938.42105263,  1939.26315789,\n",
       "         1940.10526316,  1940.94736842,  1941.78947368,  1942.63157895,\n",
       "         1943.47368421,  1944.31578947,  1945.15789474,  1946.        ,\n",
       "         1946.84210526,  1947.68421053,  1948.52631579,  1949.36842105,\n",
       "         1950.21052632,  1951.05263158,  1951.89473684,  1952.73684211,\n",
       "         1953.57894737,  1954.42105263,  1955.26315789,  1956.10526316,\n",
       "         1956.94736842,  1957.78947368,  1958.63157895,  1959.47368421,\n",
       "         1960.31578947,  1961.15789474,  1962.        ,  1962.84210526,\n",
       "         1963.68421053,  1964.52631579,  1965.36842105,  1966.21052632,\n",
       "         1967.05263158,  1967.89473684,  1968.73684211,  1969.57894737,\n",
       "         1970.42105263,  1971.26315789,  1972.10526316,  1972.94736842,\n",
       "         1973.78947368,  1974.63157895,  1975.47368421,  1976.31578947,\n",
       "         1977.15789474,  1978.        ,  1978.84210526,  1979.68421053,\n",
       "         1980.52631579,  1981.36842105,  1982.21052632,  1983.05263158,\n",
       "         1983.89473684,  1984.73684211,  1985.57894737,  1986.42105263,\n",
       "         1987.26315789,  1988.10526316,  1988.94736842,  1989.78947368,\n",
       "         1990.63157895,  1991.47368421,  1992.31578947,  1993.15789474,\n",
       "         1994.        ,  1994.84210526,  1995.68421053,  1996.52631579,\n",
       "         1997.36842105,  1998.21052632,  1999.05263158,  1999.89473684,\n",
       "         2000.73684211,  2001.57894737,  2002.42105263,  2003.26315789,\n",
       "         2004.10526316,  2004.94736842,  2005.78947368,  2006.63157895,\n",
       "         2007.47368421,  2008.31578947,  2009.15789474,  2010.        ]),\n",
       " <a list of 95 Patch objects>)"
      ]
     },
     "execution_count": 61,
     "metadata": {},
     "output_type": "execute_result"
    },
    {
     "data": {
      "image/png": "[encoded data removed]",
      "text/plain": [
       "<matplotlib.figure.Figure at 0x7f92b1a80d10>"
      ]
     },
     "metadata": {},
     "output_type": "display_data"
    }
   ],
   "source": [
    "plt.hist(training_labels, bins=95)"
   ]
  },
  {
   "cell_type": "markdown",
   "metadata": {
    "collapsed": true
   },
   "source": [
    "Alpha is the regularization parameter... how about a large alpha, like 10?"
   ]
  },
  {
   "cell_type": "code",
   "execution_count": 62,
   "metadata": {},
   "outputs": [
    {
     "data": {
      "text/plain": [
       "MLPClassifier(activation='relu', alpha=10, batch_size='auto', beta_1=0.9,\n",
       "       beta_2=0.999, early_stopping=False, epsilon=1e-08,\n",
       "       hidden_layer_sizes=(100, 100, 100, 100), learning_rate='constant',\n",
       "       learning_rate_init=0.001, max_iter=200, momentum=0.9,\n",
       "       nesterovs_momentum=True, power_t=0.5, random_state=1, shuffle=True,\n",
       "       solver='sgd', tol=0.0001, validation_fraction=0.1, verbose=False,\n",
       "       warm_start=False)"
      ]
     },
     "execution_count": 62,
     "metadata": {},
     "output_type": "execute_result"
    }
   ],
   "source": [
    "clf = MLPClassifier(solver='sgd', alpha=10,\n",
    "                     hidden_layer_sizes=(100, 100, 100, 100), random_state=1)\n",
    "\n",
    "clf.fit(training_examples, training_labels)                         \n"
   ]
  },
  {
   "cell_type": "code",
   "execution_count": 63,
   "metadata": {
    "collapsed": true
   },
   "outputs": [],
   "source": [
    "y_pred = clf.predict(test_examples)"
   ]
  },
  {
   "cell_type": "markdown",
   "metadata": {
    "collapsed": true
   },
   "source": [
    "More of the same. A class in the 2000s is still being selected for more than anything else."
   ]
  },
  {
   "cell_type": "code",
   "execution_count": 64,
   "metadata": {},
   "outputs": [
    {
     "data": {
      "text/plain": [
       "(array([ 998.,    0.,    0.,    0.,    0.,    0.,    0.,    0.,    0.,\n",
       "           0.,    0.,    0.,    0.,    0.,    0.,    0.,    0.,    0.,\n",
       "           0.,    0.,    0.,    0.,    0.,    0.,    0.,    0.,    0.,\n",
       "           0.,    0.,    0.,    0.,    1.,    0.,    0.,    0.,    0.,\n",
       "           0.,    0.,    0.,    0.,    0.,    0.,    0.,    0.,    0.,\n",
       "           0.,    0.,    0.,    0.,    0.,    0.,    0.,    0.,    0.,\n",
       "           0.,    0.,    0.,    0.,    0.,    0.,    0.,    0.,    0.,\n",
       "           0.,    0.,    0.,    0.,    0.,    0.,    0.,    0.,    0.,\n",
       "           0.,    0.,    0.,    0.,    0.,    0.,    0.,    0.,    0.,\n",
       "           0.,    0.,    0.,    0.,    0.,    0.,    0.,    0.,    0.,\n",
       "           0.,    0.,    0.,    0.,    1.]),\n",
       " array([ 2005.        ,  2005.03157895,  2005.06315789,  2005.09473684,\n",
       "         2005.12631579,  2005.15789474,  2005.18947368,  2005.22105263,\n",
       "         2005.25263158,  2005.28421053,  2005.31578947,  2005.34736842,\n",
       "         2005.37894737,  2005.41052632,  2005.44210526,  2005.47368421,\n",
       "         2005.50526316,  2005.53684211,  2005.56842105,  2005.6       ,\n",
       "         2005.63157895,  2005.66315789,  2005.69473684,  2005.72631579,\n",
       "         2005.75789474,  2005.78947368,  2005.82105263,  2005.85263158,\n",
       "         2005.88421053,  2005.91578947,  2005.94736842,  2005.97894737,\n",
       "         2006.01052632,  2006.04210526,  2006.07368421,  2006.10526316,\n",
       "         2006.13684211,  2006.16842105,  2006.2       ,  2006.23157895,\n",
       "         2006.26315789,  2006.29473684,  2006.32631579,  2006.35789474,\n",
       "         2006.38947368,  2006.42105263,  2006.45263158,  2006.48421053,\n",
       "         2006.51578947,  2006.54736842,  2006.57894737,  2006.61052632,\n",
       "         2006.64210526,  2006.67368421,  2006.70526316,  2006.73684211,\n",
       "         2006.76842105,  2006.8       ,  2006.83157895,  2006.86315789,\n",
       "         2006.89473684,  2006.92631579,  2006.95789474,  2006.98947368,\n",
       "         2007.02105263,  2007.05263158,  2007.08421053,  2007.11578947,\n",
       "         2007.14736842,  2007.17894737,  2007.21052632,  2007.24210526,\n",
       "         2007.27368421,  2007.30526316,  2007.33684211,  2007.36842105,\n",
       "         2007.4       ,  2007.43157895,  2007.46315789,  2007.49473684,\n",
       "         2007.52631579,  2007.55789474,  2007.58947368,  2007.62105263,\n",
       "         2007.65263158,  2007.68421053,  2007.71578947,  2007.74736842,\n",
       "         2007.77894737,  2007.81052632,  2007.84210526,  2007.87368421,\n",
       "         2007.90526316,  2007.93684211,  2007.96842105,  2008.        ]),\n",
       " <a list of 95 Patch objects>)"
      ]
     },
     "execution_count": 64,
     "metadata": {},
     "output_type": "execute_result"
    },
    {
     "data": {
      "image/png": "[encoded data removed]",
      "text/plain": [
       "<matplotlib.figure.Figure at 0x7f92b17c2bd0>"
      ]
     },
     "metadata": {},
     "output_type": "display_data"
    }
   ],
   "source": [
    "plt.hist(y_pred, bins=95)"
   ]
  },
  {
   "cell_type": "markdown",
   "metadata": {
    "collapsed": true
   },
   "source": [
    "How about a small alpha-- alpha = 0.0001"
   ]
  },
  {
   "cell_type": "code",
   "execution_count": 65,
   "metadata": {},
   "outputs": [
    {
     "name": "stderr",
     "output_type": "stream",
     "text": [
      "/usr/local/lib/python2.7/dist-packages/sklearn/neural_network/multilayer_perceptron.py:564: ConvergenceWarning: Stochastic Optimizer: Maximum iterations (200) reached and the optimization hasn't converged yet.\n",
      "  % self.max_iter, ConvergenceWarning)\n"
     ]
    },
    {
     "data": {
      "text/plain": [
       "MLPClassifier(activation='relu', alpha=100, batch_size='auto', beta_1=0.9,\n",
       "       beta_2=0.999, early_stopping=False, epsilon=1e-08,\n",
       "       hidden_layer_sizes=(100, 100, 100, 100), learning_rate='constant',\n",
       "       learning_rate_init=0.001, max_iter=200, momentum=0.9,\n",
       "       nesterovs_momentum=True, power_t=0.5, random_state=1, shuffle=True,\n",
       "       solver='sgd', tol=0.0001, validation_fraction=0.1, verbose=False,\n",
       "       warm_start=False)"
      ]
     },
     "execution_count": 65,
     "metadata": {},
     "output_type": "execute_result"
    }
   ],
   "source": [
    "clf = MLPClassifier(solver='sgd', alpha=0.0001,\n",
    "                     hidden_layer_sizes=(100, 100, 100, 100), random_state=1)\n",
    "\n",
    "clf.fit(training_examples, training_labels)     "
   ]
  },
  {
   "cell_type": "code",
   "execution_count": 66,
   "metadata": {
    "collapsed": true
   },
   "outputs": [],
   "source": [
    "y_pred = clf.predict(test_examples)"
   ]
  },
  {
   "cell_type": "code",
   "execution_count": 67,
   "metadata": {},
   "outputs": [
    {
     "data": {
      "text/plain": [
       "(array([    0.,     0.,     0.,     0.,     0.,     0.,     0.,     0.,\n",
       "            0.,     0.,     0.,     0.,     0.,     0.,     0.,     0.,\n",
       "            0.,     0.,     0.,     0.,     0.,     0.,     0.,     0.,\n",
       "            0.,     0.,     0.,     0.,     0.,     0.,     0.,     0.,\n",
       "            0.,     0.,     0.,     0.,     0.,     0.,     0.,     0.,\n",
       "            0.,     0.,     0.,     0.,     0.,     0.,     0.,  1000.,\n",
       "            0.,     0.,     0.,     0.,     0.,     0.,     0.,     0.,\n",
       "            0.,     0.,     0.,     0.,     0.,     0.,     0.,     0.,\n",
       "            0.,     0.,     0.,     0.,     0.,     0.,     0.,     0.,\n",
       "            0.,     0.,     0.,     0.,     0.,     0.,     0.,     0.,\n",
       "            0.,     0.,     0.,     0.,     0.,     0.,     0.,     0.,\n",
       "            0.,     0.,     0.,     0.,     0.,     0.,     0.]),\n",
       " array([ 2003.5       ,  2003.51052632,  2003.52105263,  2003.53157895,\n",
       "         2003.54210526,  2003.55263158,  2003.56315789,  2003.57368421,\n",
       "         2003.58421053,  2003.59473684,  2003.60526316,  2003.61578947,\n",
       "         2003.62631579,  2003.63684211,  2003.64736842,  2003.65789474,\n",
       "         2003.66842105,  2003.67894737,  2003.68947368,  2003.7       ,\n",
       "         2003.71052632,  2003.72105263,  2003.73157895,  2003.74210526,\n",
       "         2003.75263158,  2003.76315789,  2003.77368421,  2003.78421053,\n",
       "         2003.79473684,  2003.80526316,  2003.81578947,  2003.82631579,\n",
       "         2003.83684211,  2003.84736842,  2003.85789474,  2003.86842105,\n",
       "         2003.87894737,  2003.88947368,  2003.9       ,  2003.91052632,\n",
       "         2003.92105263,  2003.93157895,  2003.94210526,  2003.95263158,\n",
       "         2003.96315789,  2003.97368421,  2003.98421053,  2003.99473684,\n",
       "         2004.00526316,  2004.01578947,  2004.02631579,  2004.03684211,\n",
       "         2004.04736842,  2004.05789474,  2004.06842105,  2004.07894737,\n",
       "         2004.08947368,  2004.1       ,  2004.11052632,  2004.12105263,\n",
       "         2004.13157895,  2004.14210526,  2004.15263158,  2004.16315789,\n",
       "         2004.17368421,  2004.18421053,  2004.19473684,  2004.20526316,\n",
       "         2004.21578947,  2004.22631579,  2004.23684211,  2004.24736842,\n",
       "         2004.25789474,  2004.26842105,  2004.27894737,  2004.28947368,\n",
       "         2004.3       ,  2004.31052632,  2004.32105263,  2004.33157895,\n",
       "         2004.34210526,  2004.35263158,  2004.36315789,  2004.37368421,\n",
       "         2004.38421053,  2004.39473684,  2004.40526316,  2004.41578947,\n",
       "         2004.42631579,  2004.43684211,  2004.44736842,  2004.45789474,\n",
       "         2004.46842105,  2004.47894737,  2004.48947368,  2004.5       ]),\n",
       " <a list of 95 Patch objects>)"
      ]
     },
     "execution_count": 67,
     "metadata": {},
     "output_type": "execute_result"
    },
    {
     "data": {
      "image/png": "[encoded data removed]",
      "text/plain": [
       "<matplotlib.figure.Figure at 0x7f92b152f750>"
      ]
     },
     "metadata": {},
     "output_type": "display_data"
    }
   ],
   "source": [
    "plt.hist(y_pred, bins = 95)"
   ]
  },
  {
   "cell_type": "markdown",
   "metadata": {
    "collapsed": true
   },
   "source": [
    "Let's increase the number of training examples to 100,000."
   ]
  },
  {
   "cell_type": "code",
   "execution_count": 68,
   "metadata": {
    "collapsed": true
   },
   "outputs": [],
   "source": [
    "training_examples = total_array[:100000]\n",
    "#training_examples = random.sample(total_array, 10)\n",
    "training_labels = total_labels[:100000]"
   ]
  },
  {
   "cell_type": "code",
   "execution_count": 69,
   "metadata": {},
   "outputs": [
    {
     "data": {
      "text/plain": [
       "MLPClassifier(activation='relu', alpha=1e-05, batch_size='auto', beta_1=0.9,\n",
       "       beta_2=0.999, early_stopping=False, epsilon=1e-08,\n",
       "       hidden_layer_sizes=(100, 100, 100, 100), learning_rate='constant',\n",
       "       learning_rate_init=0.001, max_iter=200, momentum=0.9,\n",
       "       nesterovs_momentum=True, power_t=0.5, random_state=1, shuffle=True,\n",
       "       solver='sgd', tol=0.0001, validation_fraction=0.1, verbose=False,\n",
       "       warm_start=False)"
      ]
     },
     "execution_count": 69,
     "metadata": {},
     "output_type": "execute_result"
    }
   ],
   "source": [
    "clf = MLPClassifier(solver='sgd', alpha=1e-5,\n",
    "                     hidden_layer_sizes=(100, 100, 100, 100), random_state=1)\n",
    "\n",
    "clf.fit(training_examples, training_labels)  "
   ]
  },
  {
   "cell_type": "code",
   "execution_count": 70,
   "metadata": {
    "collapsed": true
   },
   "outputs": [],
   "source": [
    "y_pred = clf.predict(test_examples)"
   ]
  },
  {
   "cell_type": "markdown",
   "metadata": {
    "collapsed": true
   },
   "source": [
    "No improvement. Still favoring a single class."
   ]
  },
  {
   "cell_type": "code",
   "execution_count": 71,
   "metadata": {},
   "outputs": [
    {
     "data": {
      "text/plain": [
       "(array([    0.,     0.,     0.,     0.,     0.,     0.,     0.,     0.,\n",
       "            0.,     0.,     0.,     0.,     0.,     0.,     0.,     0.,\n",
       "            0.,     0.,     0.,     0.,     0.,     0.,     0.,     0.,\n",
       "            0.,     0.,     0.,     0.,     0.,     0.,     0.,     0.,\n",
       "            0.,     0.,     0.,     0.,     0.,     0.,     0.,     0.,\n",
       "            0.,     0.,     0.,     0.,     0.,     0.,     0.,  1000.,\n",
       "            0.,     0.,     0.,     0.,     0.,     0.,     0.,     0.,\n",
       "            0.,     0.,     0.,     0.,     0.,     0.,     0.,     0.,\n",
       "            0.,     0.,     0.,     0.,     0.,     0.,     0.,     0.,\n",
       "            0.,     0.,     0.,     0.,     0.,     0.,     0.,     0.,\n",
       "            0.,     0.,     0.,     0.,     0.,     0.,     0.,     0.,\n",
       "            0.,     0.,     0.,     0.,     0.,     0.,     0.]),\n",
       " array([ 2006.5       ,  2006.51052632,  2006.52105263,  2006.53157895,\n",
       "         2006.54210526,  2006.55263158,  2006.56315789,  2006.57368421,\n",
       "         2006.58421053,  2006.59473684,  2006.60526316,  2006.61578947,\n",
       "         2006.62631579,  2006.63684211,  2006.64736842,  2006.65789474,\n",
       "         2006.66842105,  2006.67894737,  2006.68947368,  2006.7       ,\n",
       "         2006.71052632,  2006.72105263,  2006.73157895,  2006.74210526,\n",
       "         2006.75263158,  2006.76315789,  2006.77368421,  2006.78421053,\n",
       "         2006.79473684,  2006.80526316,  2006.81578947,  2006.82631579,\n",
       "         2006.83684211,  2006.84736842,  2006.85789474,  2006.86842105,\n",
       "         2006.87894737,  2006.88947368,  2006.9       ,  2006.91052632,\n",
       "         2006.92105263,  2006.93157895,  2006.94210526,  2006.95263158,\n",
       "         2006.96315789,  2006.97368421,  2006.98421053,  2006.99473684,\n",
       "         2007.00526316,  2007.01578947,  2007.02631579,  2007.03684211,\n",
       "         2007.04736842,  2007.05789474,  2007.06842105,  2007.07894737,\n",
       "         2007.08947368,  2007.1       ,  2007.11052632,  2007.12105263,\n",
       "         2007.13157895,  2007.14210526,  2007.15263158,  2007.16315789,\n",
       "         2007.17368421,  2007.18421053,  2007.19473684,  2007.20526316,\n",
       "         2007.21578947,  2007.22631579,  2007.23684211,  2007.24736842,\n",
       "         2007.25789474,  2007.26842105,  2007.27894737,  2007.28947368,\n",
       "         2007.3       ,  2007.31052632,  2007.32105263,  2007.33157895,\n",
       "         2007.34210526,  2007.35263158,  2007.36315789,  2007.37368421,\n",
       "         2007.38421053,  2007.39473684,  2007.40526316,  2007.41578947,\n",
       "         2007.42631579,  2007.43684211,  2007.44736842,  2007.45789474,\n",
       "         2007.46842105,  2007.47894737,  2007.48947368,  2007.5       ]),\n",
       " <a list of 95 Patch objects>)"
      ]
     },
     "execution_count": 71,
     "metadata": {},
     "output_type": "execute_result"
    },
    {
     "data": {
      "image/png": "[encoded data removed]",
      "text/plain": [
       "<matplotlib.figure.Figure at 0x7f92b1266fd0>"
      ]
     },
     "metadata": {},
     "output_type": "display_data"
    }
   ],
   "source": [
    "plt.hist(y_pred, bins=95)"
   ]
  },
  {
   "cell_type": "markdown",
   "metadata": {
    "collapsed": true
   },
   "source": [
    "How about an adaptive learning rate? By default, MLP-classifier uses a constant learning rate. To read more about learning rates visit: http://scikit-learn.org/stable/modules/generated/sklearn.neural_network.MLPClassifier.html"
   ]
  },
  {
   "cell_type": "code",
   "execution_count": 72,
   "metadata": {},
   "outputs": [
    {
     "data": {
      "text/plain": [
       "MLPClassifier(activation='relu', alpha=1e-05, batch_size='auto', beta_1=0.9,\n",
       "       beta_2=0.999, early_stopping=False, epsilon=1e-08,\n",
       "       hidden_layer_sizes=(100, 100, 100, 100), learning_rate='adaptive',\n",
       "       learning_rate_init=0.001, max_iter=200, momentum=0.9,\n",
       "       nesterovs_momentum=True, power_t=0.5, random_state=1, shuffle=True,\n",
       "       solver='sgd', tol=0.0001, validation_fraction=0.1, verbose=False,\n",
       "       warm_start=False)"
      ]
     },
     "execution_count": 72,
     "metadata": {},
     "output_type": "execute_result"
    }
   ],
   "source": [
    "clf = MLPClassifier(solver='sgd', alpha=1e-5,\n",
    "                     hidden_layer_sizes=(100, 100, 100, 100), random_state=1, learning_rate=\"adaptive\")\n",
    "\n",
    "clf.fit(training_examples, training_labels) "
   ]
  },
  {
   "cell_type": "code",
   "execution_count": 73,
   "metadata": {
    "collapsed": true
   },
   "outputs": [],
   "source": [
    "y_pred = clf.predict(test_examples)"
   ]
  },
  {
   "cell_type": "markdown",
   "metadata": {
    "collapsed": true
   },
   "source": [
    "More of the same. More training data + an adaptive learning rate doesn't seem to work."
   ]
  },
  {
   "cell_type": "code",
   "execution_count": 74,
   "metadata": {},
   "outputs": [
    {
     "data": {
      "text/plain": [
       "(array([    0.,     0.,     0.,     0.,     0.,     0.,     0.,     0.,\n",
       "            0.,     0.,     0.,     0.,     0.,     0.,     0.,     0.,\n",
       "            0.,     0.,     0.,     0.,     0.,     0.,     0.,     0.,\n",
       "            0.,     0.,     0.,     0.,     0.,     0.,     0.,     0.,\n",
       "            0.,     0.,     0.,     0.,     0.,     0.,     0.,     0.,\n",
       "            0.,     0.,     0.,     0.,     0.,     0.,     0.,  1000.,\n",
       "            0.,     0.,     0.,     0.,     0.,     0.,     0.,     0.,\n",
       "            0.,     0.,     0.,     0.,     0.,     0.,     0.,     0.,\n",
       "            0.,     0.,     0.,     0.,     0.,     0.,     0.,     0.,\n",
       "            0.,     0.,     0.,     0.,     0.,     0.,     0.,     0.,\n",
       "            0.,     0.,     0.,     0.,     0.,     0.,     0.,     0.,\n",
       "            0.,     0.,     0.,     0.,     0.,     0.,     0.]),\n",
       " array([ 2006.5       ,  2006.51052632,  2006.52105263,  2006.53157895,\n",
       "         2006.54210526,  2006.55263158,  2006.56315789,  2006.57368421,\n",
       "         2006.58421053,  2006.59473684,  2006.60526316,  2006.61578947,\n",
       "         2006.62631579,  2006.63684211,  2006.64736842,  2006.65789474,\n",
       "         2006.66842105,  2006.67894737,  2006.68947368,  2006.7       ,\n",
       "         2006.71052632,  2006.72105263,  2006.73157895,  2006.74210526,\n",
       "         2006.75263158,  2006.76315789,  2006.77368421,  2006.78421053,\n",
       "         2006.79473684,  2006.80526316,  2006.81578947,  2006.82631579,\n",
       "         2006.83684211,  2006.84736842,  2006.85789474,  2006.86842105,\n",
       "         2006.87894737,  2006.88947368,  2006.9       ,  2006.91052632,\n",
       "         2006.92105263,  2006.93157895,  2006.94210526,  2006.95263158,\n",
       "         2006.96315789,  2006.97368421,  2006.98421053,  2006.99473684,\n",
       "         2007.00526316,  2007.01578947,  2007.02631579,  2007.03684211,\n",
       "         2007.04736842,  2007.05789474,  2007.06842105,  2007.07894737,\n",
       "         2007.08947368,  2007.1       ,  2007.11052632,  2007.12105263,\n",
       "         2007.13157895,  2007.14210526,  2007.15263158,  2007.16315789,\n",
       "         2007.17368421,  2007.18421053,  2007.19473684,  2007.20526316,\n",
       "         2007.21578947,  2007.22631579,  2007.23684211,  2007.24736842,\n",
       "         2007.25789474,  2007.26842105,  2007.27894737,  2007.28947368,\n",
       "         2007.3       ,  2007.31052632,  2007.32105263,  2007.33157895,\n",
       "         2007.34210526,  2007.35263158,  2007.36315789,  2007.37368421,\n",
       "         2007.38421053,  2007.39473684,  2007.40526316,  2007.41578947,\n",
       "         2007.42631579,  2007.43684211,  2007.44736842,  2007.45789474,\n",
       "         2007.46842105,  2007.47894737,  2007.48947368,  2007.5       ]),\n",
       " <a list of 95 Patch objects>)"
      ]
     },
     "execution_count": 74,
     "metadata": {},
     "output_type": "execute_result"
    },
    {
     "data": {
      "image/png": "[encoded data removed]",
      "text/plain": [
       "<matplotlib.figure.Figure at 0x7f92b17c28d0>"
      ]
     },
     "metadata": {},
     "output_type": "display_data"
    }
   ],
   "source": [
    "plt.hist(y_pred, bins = 95)"
   ]
  },
  {
   "cell_type": "markdown",
   "metadata": {
    "collapsed": true
   },
   "source": [
    "Let's observe the actual count of each class in the full dataset. These numbers confirm what the histograms told us-- most of the labels are for music from the late 90s and early 2000s. Even so, the data isn't so skewed that a neural net is completely ineffective... there is more to this story that we are not seeing yet."
   ]
  },
  {
   "cell_type": "code",
   "execution_count": 76,
   "metadata": {
    "collapsed": true
   },
   "outputs": [],
   "source": [
    "label_counts = {}\n",
    "\n",
    "for item in labels:\n",
    "    if item not in label_counts:\n",
    "        label_counts[item] = 1\n",
    "    else:\n",
    "        label_counts[item] += 1"
   ]
  },
  {
   "cell_type": "code",
   "execution_count": 77,
   "metadata": {},
   "outputs": [
    {
     "data": {
      "text/plain": [
       "{1922: 6,\n",
       " 1924: 5,\n",
       " 1925: 7,\n",
       " 1926: 19,\n",
       " 1927: 42,\n",
       " 1928: 52,\n",
       " 1929: 93,\n",
       " 1930: 40,\n",
       " 1931: 35,\n",
       " 1932: 11,\n",
       " 1933: 6,\n",
       " 1934: 29,\n",
       " 1935: 24,\n",
       " 1936: 25,\n",
       " 1937: 28,\n",
       " 1938: 19,\n",
       " 1939: 35,\n",
       " 1940: 52,\n",
       " 1941: 32,\n",
       " 1942: 24,\n",
       " 1943: 14,\n",
       " 1944: 15,\n",
       " 1945: 30,\n",
       " 1946: 29,\n",
       " 1947: 57,\n",
       " 1948: 43,\n",
       " 1949: 60,\n",
       " 1950: 83,\n",
       " 1951: 74,\n",
       " 1952: 77,\n",
       " 1953: 133,\n",
       " 1954: 123,\n",
       " 1955: 275,\n",
       " 1956: 565,\n",
       " 1957: 597,\n",
       " 1958: 583,\n",
       " 1959: 592,\n",
       " 1960: 424,\n",
       " 1961: 571,\n",
       " 1962: 605,\n",
       " 1963: 902,\n",
       " 1964: 945,\n",
       " 1965: 1120,\n",
       " 1966: 1377,\n",
       " 1967: 1718,\n",
       " 1968: 1867,\n",
       " 1969: 2210,\n",
       " 1970: 2349,\n",
       " 1971: 2131,\n",
       " 1972: 2288,\n",
       " 1973: 2596,\n",
       " 1974: 2184,\n",
       " 1975: 2482,\n",
       " 1976: 2179,\n",
       " 1977: 2502,\n",
       " 1978: 2926,\n",
       " 1979: 3108,\n",
       " 1980: 3101,\n",
       " 1981: 3162,\n",
       " 1982: 3597,\n",
       " 1983: 3386,\n",
       " 1984: 3368,\n",
       " 1985: 3578,\n",
       " 1986: 4219,\n",
       " 1987: 5122,\n",
       " 1988: 5611,\n",
       " 1989: 6670,\n",
       " 1990: 7256,\n",
       " 1991: 8647,\n",
       " 1992: 9543,\n",
       " 1993: 10525,\n",
       " 1994: 12121,\n",
       " 1995: 13257,\n",
       " 1996: 14130,\n",
       " 1997: 15182,\n",
       " 1998: 15814,\n",
       " 1999: 18238,\n",
       " 2000: 19285,\n",
       " 2001: 21590,\n",
       " 2002: 23451,\n",
       " 2003: 27382,\n",
       " 2004: 29607,\n",
       " 2005: 34952,\n",
       " 2006: 37534,\n",
       " 2007: 39404,\n",
       " 2008: 34760,\n",
       " 2009: 31038,\n",
       " 2010: 9396,\n",
       " 2011: 1}"
      ]
     },
     "execution_count": 77,
     "metadata": {},
     "output_type": "execute_result"
    }
   ],
   "source": [
    "label_counts"
   ]
  },
  {
   "cell_type": "markdown",
   "metadata": {},
   "source": [
    "The above confirms our intuition that the dataset is biased towards music from the 90s and 2000s."
   ]
  },
  {
   "cell_type": "code",
   "execution_count": 9,
   "metadata": {},
   "outputs": [
    {
     "name": "stdout",
     "output_type": "stream",
     "text": [
      "10000\n",
      "10000\n",
      "9996\n",
      "9996\n"
     ]
    }
   ],
   "source": [
    "import math \n",
    "\n",
    "familiarity = []\n",
    "hotttness = []\n",
    "count = 0\n",
    "\n",
    "# Replace filename with the path to the CSV where you have the year predictions data saved.\n",
    "filename = \"/mnt/c/Users/Aumit/Documents/GitHub/million-song-analysis/fam_vs_hot.csv\"\n",
    "with open(filename, 'r') as f:\n",
    "    for line in f:\n",
    "        if count == 0:\n",
    "            count += 1\n",
    "            continue\n",
    "        else:\n",
    "        \n",
    "            content = line.split(\",\")\n",
    "\n",
    "            # temp1 = float(content) \n",
    "            familiarity.append(float(content[0]))\n",
    "\n",
    "            #content.pop(0)\n",
    "\n",
    "            #content = [float(elem) for elem in content]\n",
    "\n",
    "            # If we want a list of numpy arrays, not necessary\n",
    "            #npa = np.asarray(content, dtype=np.float64)\n",
    "\n",
    "            hotttness.append(float(content[1]))\n",
    "        count += 1\n",
    "print len(familiarity)\n",
    "print len(hotttness)\n",
    "for elem, elem1 in zip(familiarity, hotttness):\n",
    "    if math.isnan(elem) or math.isnan(elem1):\n",
    "        ind = familiarity.index(elem)\n",
    "        ind1 = hotttness.index(elem1)\n",
    "        del familiarity[ind]\n",
    "        del hotttness [ind1]\n",
    "\n",
    "print len(familiarity)\n",
    "print len(hotttness)\n",
    "\n",
    "#[value for value in familiarity if not math.isnan(value)]\n",
    "#[value1 for value1 in hotttness if not math.isnan(value1)]\n",
    "        \n",
    "        \n",
    "total_hotttness = np.array(hotttness)\n",
    "total_familiarity = np.array(familiarity)\n",
    "\n"
   ]
  },
  {
   "cell_type": "code",
   "execution_count": 82,
   "metadata": {
    "scrolled": true
   },
   "outputs": [
    {
     "data": {
      "text/plain": [
       "([<matplotlib.axis.YTick at 0x7ff9c8f95410>,\n",
       "  <matplotlib.axis.YTick at 0x7ff9c8ef79d0>,\n",
       "  <matplotlib.axis.YTick at 0x7ff9c8eba6d0>],\n",
       " <a list of 3 Text yticklabel objects>)"
      ]
     },
     "execution_count": 82,
     "metadata": {},
     "output_type": "execute_result"
    },
    {
     "data": {
      "image/png": "[encoded data removed]",
      "text/plain": [
       "<matplotlib.figure.Figure at 0x7ff9c8eba510>"
      ]
     },
     "metadata": {},
     "output_type": "display_data"
    }
   ],
   "source": [
    "# fit with np.polyfit\n",
    "m, b = np.polyfit(total_familiarity, total_hotttness, 1)\n",
    "\n",
    "plt.plot(total_familiarity, total_hotttness, '.')\n",
    "plt.xlabel(\"Familiarity\")\n",
    "plt.ylabel(\"Hotttness\")\n",
    "plt.title(\"Artist Familiarity vs. Artist Hotttness\")\n",
    "plt.plot(total_familiarity, m*total_familiarity + b, '-')\n",
    "plt.yticks(np.arange(min(total_hotttness), max(total_hotttness), 0.4))"
   ]
  },
  {
   "cell_type": "markdown",
   "metadata": {},
   "source": [
    "Let's now see if we can find a correlation between the artist hotttness and correlation to years. "
   ]
  },
  {
   "cell_type": "code",
   "execution_count": 6,
   "metadata": {},
   "outputs": [],
   "source": [
    "import pandas as pd\n",
    "from pandas import compat\n",
    "compat.PY3 = True"
   ]
  },
  {
   "cell_type": "code",
   "execution_count": 7,
   "metadata": {
    "collapsed": true
   },
   "outputs": [],
   "source": [
    "df_ = pd.read_csv(\"/mnt/c/Users/Aumit/Documents/GitHub/million-song-analysis/output.csv\")"
   ]
  },
  {
   "cell_type": "code",
   "execution_count": 8,
   "metadata": {},
   "outputs": [
    {
     "data": {
      "text/plain": [
       "Index(['artist_name', ' title', ' artist_location', ' release', ' hotttness',\n",
       "       ' familiarity', ' danceability', ' duration', ' energy', ' loudness',\n",
       "       ' year', ' tempo', ' analysis_rate', ' end_of_fade_in ', 'key',\n",
       "       ' key_confidence', ' mode', ' mode_confidence', ' start_of_fade_out',\n",
       "       ' time_signature', ' time_signature_conf', ' track_id'],\n",
       "      dtype='object')"
      ]
     },
     "execution_count": 8,
     "metadata": {},
     "output_type": "execute_result"
    }
   ],
   "source": [
    "df_.keys()"
   ]
  }
 ],
 "metadata": {
  "kernelspec": {
   "display_name": "Python 2",
   "language": "python",
   "name": "python2"
  },
  "language_info": {
   "codemirror_mode": {
    "name": "ipython",
    "version": 2
   },
   "file_extension": ".py",
   "mimetype": "text/x-python",
   "name": "python",
   "nbconvert_exporter": "python",
   "pygments_lexer": "ipython2",
   "version": "2.7.6"
  }
 },
 "nbformat": 4,
 "nbformat_minor": 2
}
