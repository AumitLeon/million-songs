{
 "cells": [
  {
   "cell_type": "markdown",
   "metadata": {
    "collapsed": true
   },
   "source": [
    "## Experimenting with Neural Network architecture\n",
    "\n",
    "Does more layers neccessarily mean better performance? In what ways can we tune our network?"
   ]
  },
  {
   "cell_type": "code",
   "execution_count": 1,
   "metadata": {
    "collapsed": true
   },
   "outputs": [],
   "source": [
    "%matplotlib inline\n",
    "import matplotlib\n",
    "from matplotlib import pyplot as plt\n",
    "\n",
    "from sklearn.neural_network import MLPClassifier\n",
    "from sklearn.metrics import accuracy_score\n",
    "from sklearn.metrics import precision_recall_fscore_support\n",
    "import numpy as np\n",
    "\n",
    "import warnings\n",
    "warnings.filterwarnings(\"ignore\")"
   ]
  },
  {
   "cell_type": "code",
   "execution_count": 2,
   "metadata": {
    "collapsed": true
   },
   "outputs": [],
   "source": [
    "labels = []\n",
    "examples = []\n",
    "\n",
    "# Replace filename with the path to the CSV where you have the year predictions data saved.\n",
    "filename = \"/mnt/c/Users/Aumit/Desktop/YearPredictionMSD.txt/yp.csv\"\n",
    "with open(filename, 'r') as f:\n",
    "    for line in f:\n",
    "        content = line.split(\",\")\n",
    "        \n",
    "        labels.append(int(content[0]))\n",
    "\n",
    "        content.pop(0)\n",
    "\n",
    "        content = [float(elem) for elem in content]\n",
    "\n",
    "        # If we want a list of numpy arrays, not necessary\n",
    "        #npa = np.asarray(content, dtype=np.float64)\n",
    "\n",
    "        examples.append(content)"
   ]
  },
  {
   "cell_type": "code",
   "execution_count": 3,
   "metadata": {
    "collapsed": true
   },
   "outputs": [],
   "source": [
    "total_array = np.array(examples)\n",
    "total_labels = np.array(labels)\n",
    "# Split training and test:\n",
    "# Increase or decrease these sizes\n",
    "# Currently using first 10000 examples as training data\n",
    "# Last 1000 as test data\n",
    "training_examples = total_array[:100000]\n",
    "#training_examples = random.sample(total_array, 10)\n",
    "training_labels = total_labels[:100000]\n",
    "\n",
    "test_examples = total_array[-1000:]\n",
    "test_labels = total_labels[-1000:]"
   ]
  },
  {
   "cell_type": "markdown",
   "metadata": {},
   "source": [
    "Adaptive learning rate + smaller neural net (1 layer, 100 nodes). Using stochastic gradient descent."
   ]
  },
  {
   "cell_type": "code",
   "execution_count": 4,
   "metadata": {},
   "outputs": [
    {
     "data": {
      "text/plain": [
       "MLPClassifier(activation='relu', alpha=1e-05, batch_size='auto', beta_1=0.9,\n",
       "       beta_2=0.999, early_stopping=False, epsilon=1e-08,\n",
       "       hidden_layer_sizes=100, learning_rate='constant',\n",
       "       learning_rate_init=0.001, max_iter=200, momentum=0.9,\n",
       "       nesterovs_momentum=True, power_t=0.5, random_state=1, shuffle=True,\n",
       "       solver='sgd', tol=0.0001, validation_fraction=0.1, verbose=False,\n",
       "       warm_start=False)"
      ]
     },
     "execution_count": 4,
     "metadata": {},
     "output_type": "execute_result"
    }
   ],
   "source": [
    "clf = MLPClassifier(solver='sgd', alpha=1e-5,\n",
    "                     hidden_layer_sizes=(100), random_state=1)\n",
    "\n",
    "clf.fit(training_examples, training_labels)   "
   ]
  },
  {
   "cell_type": "code",
   "execution_count": 5,
   "metadata": {
    "collapsed": true
   },
   "outputs": [],
   "source": [
    "y_pred = clf.predict(test_examples)"
   ]
  },
  {
   "cell_type": "code",
   "execution_count": 7,
   "metadata": {},
   "outputs": [
    {
     "data": {
      "text/plain": [
       "(array([   1.,    0.,    0.,    0.,    0.,    0.,    0.,    0.,    0.,\n",
       "           0.,    0.,    0.,    0.,    0.,    0.,    0.,    0.,    0.,\n",
       "           0.,    0.,    0.,    0.,    0.,    0.,    0.,    0.,    0.,\n",
       "           0.,    0.,    0.,    0.,    0.,    0.,    0.,    0.,    0.,\n",
       "           0.,    0.,    0.,    0.,    0.,    0.,    0.,    0.,    0.,\n",
       "           0.,    0.,    0.,    0.,    0.,    0.,    0.,    0.,    0.,\n",
       "           0.,    0.,    0.,    0.,    0.,    0.,    0.,    0.,    0.,\n",
       "           0.,    0.,    0.,    0.,    0.,    0.,    0.,    0.,    0.,\n",
       "           0.,    0.,    0.,    0.,    0.,    0.,    0.,    0.,    0.,\n",
       "           0.,    0.,    0.,    0.,    0.,    0.,    0.,    0.,    0.,\n",
       "           0.,    0.,    0.,    0.,    0.,    0.,    0.,    0.,    0.,  999.]),\n",
       " array([ 2006.  ,  2006.01,  2006.02,  2006.03,  2006.04,  2006.05,\n",
       "         2006.06,  2006.07,  2006.08,  2006.09,  2006.1 ,  2006.11,\n",
       "         2006.12,  2006.13,  2006.14,  2006.15,  2006.16,  2006.17,\n",
       "         2006.18,  2006.19,  2006.2 ,  2006.21,  2006.22,  2006.23,\n",
       "         2006.24,  2006.25,  2006.26,  2006.27,  2006.28,  2006.29,\n",
       "         2006.3 ,  2006.31,  2006.32,  2006.33,  2006.34,  2006.35,\n",
       "         2006.36,  2006.37,  2006.38,  2006.39,  2006.4 ,  2006.41,\n",
       "         2006.42,  2006.43,  2006.44,  2006.45,  2006.46,  2006.47,\n",
       "         2006.48,  2006.49,  2006.5 ,  2006.51,  2006.52,  2006.53,\n",
       "         2006.54,  2006.55,  2006.56,  2006.57,  2006.58,  2006.59,\n",
       "         2006.6 ,  2006.61,  2006.62,  2006.63,  2006.64,  2006.65,\n",
       "         2006.66,  2006.67,  2006.68,  2006.69,  2006.7 ,  2006.71,\n",
       "         2006.72,  2006.73,  2006.74,  2006.75,  2006.76,  2006.77,\n",
       "         2006.78,  2006.79,  2006.8 ,  2006.81,  2006.82,  2006.83,\n",
       "         2006.84,  2006.85,  2006.86,  2006.87,  2006.88,  2006.89,\n",
       "         2006.9 ,  2006.91,  2006.92,  2006.93,  2006.94,  2006.95,\n",
       "         2006.96,  2006.97,  2006.98,  2006.99,  2007.  ]),\n",
       " <a list of 100 Patch objects>)"
      ]
     },
     "execution_count": 7,
     "metadata": {},
     "output_type": "execute_result"
    },
    {
     "data": {
      "image/png": "[encoded data removed]",
      "text/plain": [
       "<matplotlib.figure.Figure at 0x7ff3a502ed50>"
      ]
     },
     "metadata": {},
     "output_type": "display_data"
    }
   ],
   "source": [
    "plt.hist(y_pred, bins = 100)"
   ]
  },
  {
   "cell_type": "markdown",
   "metadata": {},
   "source": [
    "How about 2 small layers? "
   ]
  },
  {
   "cell_type": "code",
   "execution_count": 8,
   "metadata": {},
   "outputs": [
    {
     "data": {
      "text/plain": [
       "MLPClassifier(activation='relu', alpha=1e-05, batch_size='auto', beta_1=0.9,\n",
       "       beta_2=0.999, early_stopping=False, epsilon=1e-08,\n",
       "       hidden_layer_sizes=(10, 10), learning_rate='constant',\n",
       "       learning_rate_init=0.001, max_iter=200, momentum=0.9,\n",
       "       nesterovs_momentum=True, power_t=0.5, random_state=1, shuffle=True,\n",
       "       solver='sgd', tol=0.0001, validation_fraction=0.1, verbose=False,\n",
       "       warm_start=False)"
      ]
     },
     "execution_count": 8,
     "metadata": {},
     "output_type": "execute_result"
    }
   ],
   "source": [
    "clf = MLPClassifier(solver='sgd', alpha=1e-5,\n",
    "                     hidden_layer_sizes=(10, 10), random_state=1)\n",
    "\n",
    "clf.fit(training_examples, training_labels) "
   ]
  },
  {
   "cell_type": "code",
   "execution_count": 9,
   "metadata": {
    "collapsed": true
   },
   "outputs": [],
   "source": [
    "y_pred = clf.predict(test_examples)"
   ]
  },
  {
   "cell_type": "code",
   "execution_count": 10,
   "metadata": {},
   "outputs": [
    {
     "data": {
      "text/plain": [
       "(array([    0.,     0.,     0.,     0.,     0.,     0.,     0.,     0.,\n",
       "            0.,     0.,     0.,     0.,     0.,     0.,     0.,     0.,\n",
       "            0.,     0.,     0.,     0.,     0.,     0.,     0.,     0.,\n",
       "            0.,     0.,     0.,     0.,     0.,     0.,     0.,     0.,\n",
       "            0.,     0.,     0.,     0.,     0.,     0.,     0.,     0.,\n",
       "            0.,     0.,     0.,     0.,     0.,     0.,     0.,     0.,\n",
       "            0.,     0.,  1000.,     0.,     0.,     0.,     0.,     0.,\n",
       "            0.,     0.,     0.,     0.,     0.,     0.,     0.,     0.,\n",
       "            0.,     0.,     0.,     0.,     0.,     0.,     0.,     0.,\n",
       "            0.,     0.,     0.,     0.,     0.,     0.,     0.,     0.,\n",
       "            0.,     0.,     0.,     0.,     0.,     0.,     0.,     0.,\n",
       "            0.,     0.,     0.,     0.,     0.,     0.,     0.,     0.,\n",
       "            0.,     0.,     0.,     0.]),\n",
       " array([ 2006.5 ,  2006.51,  2006.52,  2006.53,  2006.54,  2006.55,\n",
       "         2006.56,  2006.57,  2006.58,  2006.59,  2006.6 ,  2006.61,\n",
       "         2006.62,  2006.63,  2006.64,  2006.65,  2006.66,  2006.67,\n",
       "         2006.68,  2006.69,  2006.7 ,  2006.71,  2006.72,  2006.73,\n",
       "         2006.74,  2006.75,  2006.76,  2006.77,  2006.78,  2006.79,\n",
       "         2006.8 ,  2006.81,  2006.82,  2006.83,  2006.84,  2006.85,\n",
       "         2006.86,  2006.87,  2006.88,  2006.89,  2006.9 ,  2006.91,\n",
       "         2006.92,  2006.93,  2006.94,  2006.95,  2006.96,  2006.97,\n",
       "         2006.98,  2006.99,  2007.  ,  2007.01,  2007.02,  2007.03,\n",
       "         2007.04,  2007.05,  2007.06,  2007.07,  2007.08,  2007.09,\n",
       "         2007.1 ,  2007.11,  2007.12,  2007.13,  2007.14,  2007.15,\n",
       "         2007.16,  2007.17,  2007.18,  2007.19,  2007.2 ,  2007.21,\n",
       "         2007.22,  2007.23,  2007.24,  2007.25,  2007.26,  2007.27,\n",
       "         2007.28,  2007.29,  2007.3 ,  2007.31,  2007.32,  2007.33,\n",
       "         2007.34,  2007.35,  2007.36,  2007.37,  2007.38,  2007.39,\n",
       "         2007.4 ,  2007.41,  2007.42,  2007.43,  2007.44,  2007.45,\n",
       "         2007.46,  2007.47,  2007.48,  2007.49,  2007.5 ]),\n",
       " <a list of 100 Patch objects>)"
      ]
     },
     "execution_count": 10,
     "metadata": {},
     "output_type": "execute_result"
    },
    {
     "data": {
      "image/png": "[encoded data removed]",
      "text/plain": [
       "<matplotlib.figure.Figure at 0x7ff3a4f31dd0>"
      ]
     },
     "metadata": {},
     "output_type": "display_data"
    }
   ],
   "source": [
    "plt.hist(y_pred, bins=100)"
   ]
  },
  {
   "cell_type": "markdown",
   "metadata": {},
   "source": [
    "Some next steps: \n",
    "* Consider shuffling and picking random samples for training and test sets as opposed to just selecting the first 100000 for our training data. \n",
    "* Figure out how many hidden layers/nodes we should have: ftp://ftp.sas.com/pub/neural/FAQ3.html#A_hu\n",
    "* Confirm that the neural net is performing the way we think it should be performing with psedo input. If the the network fails on fake input, then we know that there is an issue somewhere in our pipelne. https://blog.slavv.com/37-reasons-why-your-neural-network-is-not-working-4020854bd607"
   ]
  },
  {
   "cell_type": "code",
   "execution_count": null,
   "metadata": {
    "collapsed": true
   },
   "outputs": [],
   "source": []
  }
 ],
 "metadata": {
  "kernelspec": {
   "display_name": "Python 2",
   "language": "python",
   "name": "python2"
  },
  "language_info": {
   "codemirror_mode": {
    "name": "ipython",
    "version": 2
   },
   "file_extension": ".py",
   "mimetype": "text/x-python",
   "name": "python",
   "nbconvert_exporter": "python",
   "pygments_lexer": "ipython2",
   "version": "2.7.6"
  }
 },
 "nbformat": 4,
 "nbformat_minor": 2
}
